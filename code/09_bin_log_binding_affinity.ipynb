{
 "cells": [
  {
   "cell_type": "code",
   "execution_count": null,
   "metadata": {
    "collapsed": true
   },
   "outputs": [],
   "source": [
    "import pandas as pd\n",
    "import numpy as np\n",
    "import math\n",
    "\n",
    "types = ['IC50', 'Ki', 'Kd']"
   ]
  },
  {
   "cell_type": "code",
   "execution_count": null,
   "metadata": {
    "collapsed": false
   },
   "outputs": [],
   "source": [
    "for x in types:\n",
    "    df = pd.read_csv('../datasets/protLigBindDB_'+x,skiprows=1)\n",
    "    \n",
    "    arr = df[x].as_matrix()\n",
    "    n = len(arr)\n",
    "    q75, q25 = np.percentile(arr, [75 ,25])\n",
    "    iqr = q75 - q25\n",
    "    bin_width = round(2*iqr*math.pow(n,-1/3))\n",
    "    minimum_value = math.ceil(min(arr))\n",
    "    maximum_value = math.ceil(max(arr))\n",
    "    number_of_bins = math.ceil((maximum_value - minimum_value)/bin_width)\n",
    "    i = minimum_value\n",
    "    bins = []\n",
    "    while i <=  maximum_value:\n",
    "        bins.append(i)\n",
    "        i += bin_width\n",
    "    \n",
    "    arr2 = df['log('+x+')'].as_matrix()\n",
    "    n2 = len(arr2)\n",
    "    q75_2, q25_2 = np.percentile(arr2, [75 ,25])\n",
    "    iqr2 = q75_2 - q25_2\n",
    "    bin_width2 = round(2*iqr2*math.pow(n2,-1/3))\n",
    "    minimum_value2 = math.ceil(min(arr2))\n",
    "    maximum_value2 = math.ceil(max(arr2))\n",
    "    number_of_bins2 = math.ceil((maximum_value2 - minimum_value2)/bin_width2)\n",
    "    i2 = minimum_value2\n",
    "    bins2 = []\n",
    "    while i2 <=  maximum_value2:\n",
    "        bins2.append(i2)\n",
    "        i2 += bin_width2\n",
    "    \n",
    "    with open('../datasets/bin_ranges/'+x+'_nonLog', 'w') as f:\n",
    "        for i in range(0,len(bins)-1):\n",
    "            f.write(str(i+1) + ',' + str(bins[i]) + ' <= x < ' + str(bins[i+1]) + '\\n')\n",
    "        f.write(str(len(bins)) + ',' + str(bins[len(bins)-1]) + ' >= x\\n')\n",
    "    with open('../datasets/bin_ranges/'+x+'_log', 'w') as f:\n",
    "        for i in range(0,len(bins2)-1):\n",
    "            f.write(chr(65+i) + ',' + str(bins2[i]) + ' <= x < ' + str(bins2[i+1]) + '\\n')\n",
    "        f.write(chr(65+len(bins2)-1) + ',' + str(bins2[len(bins2)-1]) + ' >= x\\n')\n",
    "    with open('../datasets/protLigBindDB_'+x, 'r') as f:\n",
    "        lines = f.readlines()\n",
    "    new_lines = []\n",
    "    for line in lines:\n",
    "        line = line.strip('\\n')\n",
    "        if line.startswith('#'):\n",
    "            new_lines.append(line)\n",
    "        elif line.startswith('PDB'):\n",
    "            new_lines.append(line+',Binned_Binding_Affinity,Log_Binned_Binding_Affinity')\n",
    "        else:\n",
    "            data = line.split(',')\n",
    "            binned_binding_affinity = ''\n",
    "            for i in range(0,len(bins)-1):\n",
    "                if bins[i] <= float(data[len(data)-2]) < bins[i+1]:\n",
    "                    binned_binding_affinity = str(i+1)\n",
    "                    break\n",
    "            if binned_binding_affinity == '':\n",
    "                 binned_binding_affinity = str(len(bins))\n",
    "            log_binned_binding_affinity = ''\n",
    "            for i in range(0,len(bins2)-1):\n",
    "                if bins2[i] <= float(data[len(data)-1]) < bins2[i+1]:\n",
    "                    log_binned_binding_affinity = chr(65+i)\n",
    "                    break\n",
    "            if log_binned_binding_affinity == '':\n",
    "                 log_binned_binding_affinity = chr(65+len(bins2)-1)\n",
    "            new_lines.append(line+','+binned_binding_affinity+','+log_binned_binding_affinity)\n",
    "    with open('../datasets/protLigBindDB_'+x+'_binned', 'w') as f:\n",
    "        for line in new_lines:\n",
    "            f.write(line + '\\n')"
   ]
  }
 ],
 "metadata": {
  "anaconda-cloud": {},
  "kernelspec": {
   "display_name": "Python [conda root]",
   "language": "python",
   "name": "conda-root-py"
  },
  "language_info": {
   "codemirror_mode": {
    "name": "ipython",
    "version": 3
   },
   "file_extension": ".py",
   "mimetype": "text/x-python",
   "name": "python",
   "nbconvert_exporter": "python",
   "pygments_lexer": "ipython3",
   "version": "3.5.2"
  }
 },
 "nbformat": 4,
 "nbformat_minor": 1
}
